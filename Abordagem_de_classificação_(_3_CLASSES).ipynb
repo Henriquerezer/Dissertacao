{
  "nbformat": 4,
  "nbformat_minor": 0,
  "metadata": {
    "colab": {
      "provenance": [],
      "authorship_tag": "ABX9TyOsNEKh5FrkwGawP5puYcF+",
      "include_colab_link": true
    },
    "kernelspec": {
      "name": "python3",
      "display_name": "Python 3"
    },
    "language_info": {
      "name": "python"
    }
  },
  "cells": [
    {
      "cell_type": "markdown",
      "metadata": {
        "id": "view-in-github",
        "colab_type": "text"
      },
      "source": [
        "<a href=\"https://colab.research.google.com/github/Henriquerezer/Dissertacao/blob/main/Abordagem_de_classifica%C3%A7%C3%A3o_(_3_CLASSES).ipynb\" target=\"_parent\"><img src=\"https://colab.research.google.com/assets/colab-badge.svg\" alt=\"Open In Colab\"/></a>"
      ]
    },
    {
      "cell_type": "code",
      "execution_count": 1,
      "metadata": {
        "id": "gPn0RKaFMblw"
      },
      "outputs": [],
      "source": [
        "# Importação de bibliotecas necessárias\n",
        "\n",
        "import pandas as pd\n",
        "import numpy as np\n",
        "import matplotlib.pyplot as plt\n",
        "from sklearn.preprocessing import MinMaxScaler, StandardScaler, RobustScaler\n",
        "from sklearn.model_selection import  train_test_split\n",
        "from sklearn.model_selection import cross_val_score\n",
        "from sklearn.metrics import accuracy_score, f1_score, recall_score\n",
        "from sklearn.ensemble import RandomForestClassifier, GradientBoostingClassifier, ExtraTreesClassifier\n",
        "from imblearn.over_sampling import SMOTE"
      ]
    },
    {
      "cell_type": "code",
      "source": [
        "treino = pd.read_excel('/content/Treino (2).xlsx')\n",
        "treino['TEMP'] = treino['TEMP'].str.replace(\"?\", \"\")\n",
        "treino['HUMIDADE'] = treino['HUMIDADE'].str.replace(\"%\", \"\")\n",
        "treino['TEMP'] = treino['TEMP'].astype(float)\n",
        "treino['HUMIDADE'] = treino['HUMIDADE'].astype(float)\n",
        "# Função para definir o valor da nova coluna com base nas condições\n",
        "\n",
        "def definir_valor_nova_coluna(valor):\n",
        "    if 353 >= valor >= 181:\n",
        "        return  1    #'hiperglicemia'\n",
        "    elif 180 >= valor >= 71:\n",
        "        return 2     #  'normogllicemia'\n",
        "    elif 70 >= valor >= 0:\n",
        "      return 3       #'hipoglicemia'\n",
        "    else:\n",
        "        return None  # Ou qualquer valor padrão para casos que não se encaixem nas condições\n",
        "\n",
        "# Criar a nova coluna usando a função apply\n",
        "treino['categorica'] = treino['mg/dL'].apply(definir_valor_nova_coluna)\n",
        "treino = treino.drop('mg/dL', axis = 1)\n",
        "treino = treino.dropna()"
      ],
      "metadata": {
        "colab": {
          "base_uri": "https://localhost:8080/"
        },
        "id": "C6kEHBaKNFHG",
        "outputId": "9543a667-e151-4185-946f-48b3a22ff95f"
      },
      "execution_count": 2,
      "outputs": [
        {
          "output_type": "stream",
          "name": "stderr",
          "text": [
            "<ipython-input-2-e0e77dd8d0a9>:2: FutureWarning: The default value of regex will change from True to False in a future version. In addition, single character regular expressions will *not* be treated as literal strings when regex=True.\n",
            "  treino['TEMP'] = treino['TEMP'].str.replace(\"?\", \"\")\n"
          ]
        }
      ]
    },
    {
      "cell_type": "code",
      "source": [
        "X = treino.drop('categorica', axis=1)\n",
        "y = treino['categorica']\n",
        "\n",
        "# Passo 1: Separar os dados em treino e teste\n",
        "X_train, X_test, y_train, y_test = train_test_split(X, y, test_size=0.3, random_state=42, stratify=y)\n",
        "\n",
        "# Passo 2: Aplicar SMOTE para balancear as classes no conjunto de treino\n",
        "smote = SMOTE(random_state=42, sampling_strategy='all', k_neighbors=2)\n",
        "X_train_resampled, y_train_resampled = smote.fit_resample(X_train, y_train)\n",
        "\n",
        "model = ExtraTreesClassifier(max_depth = 10, min_samples_leaf = 1, min_samples_split = 2, n_estimators = 200, criterion='entropy')\n",
        "\n",
        "# Definir o número de folds para a validação cruzada\n",
        "num_folds = 6\n",
        "\n",
        "# Realizar a validação cruzada\n",
        "scores = cross_val_score(model, X_train_resampled, y_train_resampled, cv=num_folds, scoring='accuracy')\n",
        "\n",
        "# Treinar o modelo com todos os dados de treinamento\n",
        "model.fit( X_train_resampled, y_train_resampled)\n",
        "\n",
        "\n",
        "y_pred = model.predict(X_test)\n",
        "\n",
        "acc = accuracy_score(y_test, y_pred)\n",
        "f1 = f1_score(y_test, y_pred, average='weighted')\n",
        "recall = recall_score(y_test, y_pred, average='weighted')\n",
        "\n",
        "#print(f\"Metrics for {model_name}:\")\n",
        "print(f\"Accuracy: {acc:.4f}\")\n",
        "print(f\"F1 Score: {f1:.4f}\")\n",
        "print(f\"Recall: {recall:.4f}\")"
      ],
      "metadata": {
        "colab": {
          "base_uri": "https://localhost:8080/"
        },
        "id": "1dMt1K4ENdnB",
        "outputId": "86b26f79-6057-4031-ade5-60b617d88eb8"
      },
      "execution_count": 3,
      "outputs": [
        {
          "output_type": "stream",
          "name": "stdout",
          "text": [
            "Accuracy: 0.9483\n",
            "F1 Score: 0.9473\n",
            "Recall: 0.9483\n"
          ]
        }
      ]
    },
    {
      "cell_type": "code",
      "source": [
        "from yellowbrick.classifier import ConfusionMatrix\n",
        "\n",
        "cm = ConfusionMatrix(model)\n",
        "\n",
        "cm.score( X_test, y_test)\n",
        "plt.savefig('EXTRA TREE 3 classes VALIDAÇÃO.png')\n",
        "cm.show()"
      ],
      "metadata": {
        "colab": {
          "base_uri": "https://localhost:8080/",
          "height": 603
        },
        "id": "VxJiC4hoNiXv",
        "outputId": "cd23620a-1b6d-40b8-aea0-fabc996df9c3"
      },
      "execution_count": 4,
      "outputs": [
        {
          "output_type": "stream",
          "name": "stderr",
          "text": [
            "/usr/local/lib/python3.10/dist-packages/yellowbrick/classifier/base.py:232: YellowbrickWarning: could not determine class_counts_ from previously fitted classifier\n",
            "  warnings.warn(\n"
          ]
        },
        {
          "output_type": "display_data",
          "data": {
            "text/plain": [
              "<Figure size 800x550 with 1 Axes>"
            ],
            "image/png": "[encoded data removed]"
          },
          "metadata": {}
        },
        {
          "output_type": "execute_result",
          "data": {
            "text/plain": [
              "<Axes: title={'center': 'ExtraTreesClassifier Confusion Matrix'}, xlabel='Predicted Class', ylabel='True Class'>"
            ]
          },
          "metadata": {},
          "execution_count": 4
        }
      ]
    },
    {
      "cell_type": "markdown",
      "source": [
        "# TESTE"
      ],
      "metadata": {
        "id": "hH9KMxU4NwcI"
      }
    },
    {
      "cell_type": "code",
      "source": [
        "data = pd.read_excel('/content/teste (2).xlsx')\n",
        "data['TEMP'] = data['TEMP'].str.replace(\"?\", \"\")\n",
        "data['HUMIDADE'] = data['HUMIDADE'].str.replace(\"%\", \"\")\n",
        "data = data.dropna()\n",
        "data['TEMP'] = data['TEMP'].astype(float)\n",
        "data['HUMIDADE'] = data['HUMIDADE'].astype(float)\n",
        "data.head()\n",
        "\n",
        "def definir_valor_nova_coluna(valor):\n",
        "    if 353 >= valor >= 181:\n",
        "        return 1  #   'hiperglicemia'\n",
        "    elif 180 >= valor >= 71:\n",
        "        return 2  # 'normoglicemia'\n",
        "    elif 70 >= valor >= 0:\n",
        "      return 3    # 'hipoglicemia'\n",
        "    else:\n",
        "        return None  # Ou qualquer valor padrão para casos que não se encaixem nas condições\n",
        "\n",
        "# Criar a nova coluna usando a função apply\n",
        "data['categorica'] = data['mg/dL'].apply(definir_valor_nova_coluna)\n",
        "data = data.drop('mg/dL', axis = 1)\n",
        "data = data.dropna()"
      ],
      "metadata": {
        "colab": {
          "base_uri": "https://localhost:8080/"
        },
        "id": "klanboWuNmZj",
        "outputId": "637b7ed5-f449-44c5-f4a9-3c15b28f6f0c"
      },
      "execution_count": 5,
      "outputs": [
        {
          "output_type": "stream",
          "name": "stderr",
          "text": [
            "<ipython-input-5-b8d1c2685b63>:2: FutureWarning: The default value of regex will change from True to False in a future version. In addition, single character regular expressions will *not* be treated as literal strings when regex=True.\n",
            "  data['TEMP'] = data['TEMP'].str.replace(\"?\", \"\")\n"
          ]
        }
      ]
    },
    {
      "cell_type": "code",
      "source": [
        "X = data.drop('categorica', axis=1)\n",
        "y = data['categorica']\n",
        "\n",
        "y_pred = model.predict(X)\n",
        "\n",
        "acc = accuracy_score(y, y_pred)\n",
        "f1 = f1_score(y, y_pred, average='weighted')\n",
        "recall = recall_score(y, y_pred, average='weighted')\n",
        "#print(f\"Metrics for {model_name}:\")\n",
        "print(f\"Accuracy: {acc:.4f}\")\n",
        "print(f\"F1 Score: {f1:.4f}\")\n",
        "print(f\"Recall: {recall:.4f}\")"
      ],
      "metadata": {
        "colab": {
          "base_uri": "https://localhost:8080/"
        },
        "id": "n7ypIjQ9Ns-m",
        "outputId": "e3f133a6-c462-4e5a-a8d5-96ecd30d3f14"
      },
      "execution_count": 6,
      "outputs": [
        {
          "output_type": "stream",
          "name": "stdout",
          "text": [
            "Accuracy: 0.9778\n",
            "F1 Score: 0.9776\n",
            "Recall: 0.9778\n"
          ]
        }
      ]
    },
    {
      "cell_type": "code",
      "source": [
        "from yellowbrick.classifier import ConfusionMatrix\n",
        "\n",
        "cm = ConfusionMatrix(model)\n",
        "\n",
        "cm.score(X, y)\n",
        "plt.savefig('EXTRA TREE 3 classes teste.png')\n",
        "cm.show()"
      ],
      "metadata": {
        "colab": {
          "base_uri": "https://localhost:8080/",
          "height": 603
        },
        "id": "12JkiPfqNvem",
        "outputId": "19f17fc0-201d-476b-ca5e-8c5d8371adc8"
      },
      "execution_count": 7,
      "outputs": [
        {
          "output_type": "stream",
          "name": "stderr",
          "text": [
            "/usr/local/lib/python3.10/dist-packages/yellowbrick/classifier/base.py:232: YellowbrickWarning: could not determine class_counts_ from previously fitted classifier\n",
            "  warnings.warn(\n"
          ]
        },
        {
          "output_type": "display_data",
          "data": {
            "text/plain": [
              "<Figure size 800x550 with 1 Axes>"
            ],
            "image/png": "[encoded data removed]"
          },
          "metadata": {}
        },
        {
          "output_type": "execute_result",
          "data": {
            "text/plain": [
              "<Axes: title={'center': 'ExtraTreesClassifier Confusion Matrix'}, xlabel='Predicted Class', ylabel='True Class'>"
            ]
          },
          "metadata": {},
          "execution_count": 7
        }
      ]
    },
    {
      "cell_type": "markdown",
      "source": [
        "# NOVAS LEITURAS"
      ],
      "metadata": {
        "id": "s2MF7gvwN3xg"
      }
    },
    {
      "cell_type": "code",
      "source": [
        "novas_leituras = pd.read_excel('/content/teste_final.xlsx')\n",
        "novas_leituras['TEMP'] = novas_leituras['TEMP'].str.replace(\"?\", \"\")\n",
        "novas_leituras['HUMIDADE'] = novas_leituras['HUMIDADE'].str.replace(\"%\", \"\")\n",
        "novas_leituras['TEMP'] = novas_leituras['TEMP'].astype(float)\n",
        "novas_leituras['HUMIDADE'] = novas_leituras['HUMIDADE'].astype(float)\n",
        "\n",
        "def definir_valor_nova_coluna(valor):\n",
        "    if 393 >= valor >= 181:\n",
        "        return 1  #   'hiperglicemia'\n",
        "    elif 180 >= valor >= 71:\n",
        "        return 2  # 'normoglicemia'\n",
        "    elif 70 >= valor >= 0:\n",
        "      return 3    # 'hipoglicemia'\n",
        "    else:\n",
        "        return None  # Ou qualquer valor padrão para casos que não se encaixem nas condições\n",
        "\n",
        "# Criar a nova coluna usando a função apply\n",
        "novas_leituras['categorica'] = novas_leituras['mg/dL'].apply(definir_valor_nova_coluna)\n",
        "novas_leituras = novas_leituras.drop('mg/dL', axis = 1)\n",
        "novas_leituras = novas_leituras.dropna()"
      ],
      "metadata": {
        "colab": {
          "base_uri": "https://localhost:8080/"
        },
        "id": "69vPmaKDN1AK",
        "outputId": "9f0ba280-1735-4c15-d573-134df6e7f659"
      },
      "execution_count": 9,
      "outputs": [
        {
          "output_type": "stream",
          "name": "stderr",
          "text": [
            "<ipython-input-9-1c1470f2e7f5>:2: FutureWarning: The default value of regex will change from True to False in a future version. In addition, single character regular expressions will *not* be treated as literal strings when regex=True.\n",
            "  novas_leituras['TEMP'] = novas_leituras['TEMP'].str.replace(\"?\", \"\")\n"
          ]
        }
      ]
    },
    {
      "cell_type": "code",
      "source": [
        "X = novas_leituras.drop('categorica', axis=1)\n",
        "y = novas_leituras['categorica']\n",
        "\n",
        "y_pred = model.predict(X)\n",
        "\n",
        "acc = accuracy_score(y, y_pred)\n",
        "f1 = f1_score(y, y_pred, average='weighted')\n",
        "recall = recall_score(y, y_pred, average='weighted')\n",
        "\n",
        "print(acc)"
      ],
      "metadata": {
        "colab": {
          "base_uri": "https://localhost:8080/"
        },
        "id": "XbRf04KYN7vf",
        "outputId": "3e7abad4-f769-4eb0-8ae8-21107b989cfc"
      },
      "execution_count": 10,
      "outputs": [
        {
          "output_type": "stream",
          "name": "stdout",
          "text": [
            "0.8947368421052632\n"
          ]
        }
      ]
    },
    {
      "cell_type": "code",
      "source": [
        "from yellowbrick.classifier import ConfusionMatrix\n",
        "\n",
        "cm = ConfusionMatrix(model)\n",
        "\n",
        "cm.score(X, y)\n",
        "plt.savefig('EXTRA TREE 3 classes novas leituras.png')\n",
        "cm.show()"
      ],
      "metadata": {
        "colab": {
          "base_uri": "https://localhost:8080/",
          "height": 603
        },
        "id": "yJDK8LRnOAP3",
        "outputId": "671493db-2d21-4494-b1ef-b10cf04398f7"
      },
      "execution_count": 11,
      "outputs": [
        {
          "output_type": "stream",
          "name": "stderr",
          "text": [
            "/usr/local/lib/python3.10/dist-packages/yellowbrick/classifier/base.py:232: YellowbrickWarning: could not determine class_counts_ from previously fitted classifier\n",
            "  warnings.warn(\n"
          ]
        },
        {
          "output_type": "display_data",
          "data": {
            "text/plain": [
              "<Figure size 800x550 with 1 Axes>"
            ],
            "image/png": "[encoded data removed]"
          },
          "metadata": {}
        },
        {
          "output_type": "execute_result",
          "data": {
            "text/plain": [
              "<Axes: title={'center': 'ExtraTreesClassifier Confusion Matrix'}, xlabel='Predicted Class', ylabel='True Class'>"
            ]
          },
          "metadata": {},
          "execution_count": 11
        }
      ]
    },
    {
      "cell_type": "code",
      "source": [],
      "metadata": {
        "id": "-4ZKVSgAOCBf"
      },
      "execution_count": null,
      "outputs": []
    }
  ]
}